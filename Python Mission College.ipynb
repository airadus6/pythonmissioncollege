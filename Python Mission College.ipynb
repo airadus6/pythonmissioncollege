{
 "cells": [
  {
   "cell_type": "code",
   "execution_count": 1,
   "metadata": {},
   "outputs": [],
   "source": [
    "import math"
   ]
  },
  {
   "cell_type": "code",
   "execution_count": 9,
   "metadata": {},
   "outputs": [
    {
     "name": "stdout",
     "output_type": "stream",
     "text": [
      "Enter a side: 5.5\n",
      "The area of the pentagon is: 52.044441367816255\n"
     ]
    }
   ],
   "source": [
    "# 3.4\n",
    "s = eval(input(\"Enter a side: \"))\n",
    "area = (5 * s**2) / (4 * math.tan(math.pi/5))\n",
    "print(\"The area of the pentagon is:\",area)"
   ]
  },
  {
   "cell_type": "code",
   "execution_count": 17,
   "metadata": {},
   "outputs": [
    {
     "name": "stdout",
     "output_type": "stream",
     "text": [
      "Enter a number from 0 to 127: 97\n",
      "The character is a\n"
     ]
    }
   ],
   "source": [
    "#3.6\n",
    "\n",
    "x = eval(input(\"Enter a number from 0 to 127: \"))\n",
    "char = chr(x)\n",
    "print(\"The character is\", char)\n",
    "\n"
   ]
  },
  {
   "cell_type": "code",
   "execution_count": null,
   "metadata": {},
   "outputs": [],
   "source": []
  }
 ],
 "metadata": {
  "kernelspec": {
   "display_name": "Python 3",
   "language": "python",
   "name": "python3"
  },
  "language_info": {
   "codemirror_mode": {
    "name": "ipython",
    "version": 3
   },
   "file_extension": ".py",
   "mimetype": "text/x-python",
   "name": "python",
   "nbconvert_exporter": "python",
   "pygments_lexer": "ipython3",
   "version": "3.7.3"
  }
 },
 "nbformat": 4,
 "nbformat_minor": 2
}
